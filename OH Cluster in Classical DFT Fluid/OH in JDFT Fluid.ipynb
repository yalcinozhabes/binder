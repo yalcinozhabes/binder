{
 "cells": [
  {
   "cell_type": "markdown",
   "metadata": {},
   "source": [
    "# OH- in water\n",
    "\n",
    "Related JDFTx files:\n",
    "\n",
    " * [W15OH1-confining.in](data/W15OH1-confining.in)\n",
    " * [W15OH1-confining.out](data/W15OH1-confining.out)\n",
    " * [W15OH1-confining.n](data/W15OH1-confining.n)\n",
    " * [W15OH1-confining.fluidN_H2O_H](data/W15OH1-confining.fluidN_H2O_H)\n",
    " * [W15OH1-confining.fluidN_H2O_O](data/W15OH1-confining.fluidN_H2O_O)\n",
    " \n",
    "Import stuff and read the binary files:"
   ]
  },
  {
   "cell_type": "code",
   "execution_count": 1,
   "metadata": {
    "collapsed": true
   },
   "outputs": [],
   "source": [
    "import warnings\n",
    "warnings.filterwarnings('ignore')\n",
    "from jdftx import *\n",
    "\n",
    "o_0 = np.fromfile('data/W15OH1-confining.fluidN_H2O_O').reshape(140,140,140)\n",
    "h_0 = np.fromfile('data/W15OH1-confining.fluidN_H2O_H').reshape(140,140,140)\n",
    "n_0 = np.fromfile('data/W15OH1-confining.n').reshape(140,140,140)\n",
    "\n",
    "a = 35*bohr_as_angstrom\n",
    "dx = a/140\n",
    "x = np.arange(0, a, dx); x+=a/2; x %= a; x-= a/2; y = x[:]; z = x[:]\n",
    "from itertools import product\n",
    "xyz = np.asarray(list(product(x,y,z))) # array of coordinates of size (140^3, 3)"
   ]
  },
  {
   "cell_type": "markdown",
   "metadata": {},
   "source": [
    "Visualize the explicit atoms and the fluid structure. I am only visualizing the large values of site densities, and the `points` that represent the fluid are sized proportional to the site density, large points represent large peaks. You can change the thresold for the site densities and play with the image."
   ]
  },
  {
   "cell_type": "code",
   "execution_count": 7,
   "metadata": {
    "collapsed": false
   },
   "outputs": [],
   "source": [
    "from IPython.html.widgets import *\n",
    "from IPython import display\n",
    "from chemview import enable_notebook, RepresentationViewer, MolecularViewer\n",
    "enable_notebook()\n",
    "\n",
    "tv = jdout('data/W15OH1-confining').o.vis()\n",
    "\n",
    "oSize, hSize = 10, 10\n",
    "oxygen, hydrogen = None, None\n",
    "\n",
    "@interact(O_threshold=(o_0.mean(), o_0.mean()+o_0.std()*10, o_0.std()))\n",
    "def changeOxygenThreshold(O_threshold):\n",
    "    global oxygen, oSize\n",
    "    peakPointsO = (o_0>O_threshold).reshape(-1)\n",
    "    if oxygen: tv.remove_representation(oxygen)\n",
    "    oxygen = tv.add_representation('points', {'coordinates' : xyz[peakPointsO], \n",
    "                                   'sizes' : o_0.reshape(-1)[peakPointsO]*oSize, \n",
    "                                   'colors' : [0xAA0000]*np.sum(peakPointsO)})\n",
    "    \n",
    "@interact(H_threshold=(h_0.mean(), h_0.mean()+h_0.std()*10, h_0.std()))\n",
    "def changeHydrogenThreshold(H_threshold):\n",
    "    global hydrogen, hSize\n",
    "    peakPointsH = (h_0>H_threshold).reshape(-1)\n",
    "    if hydrogen: tv.remove_representation(hydrogen)\n",
    "    hydrogen = tv.add_representation('points', {'coordinates' : xyz[peakPointsH], \n",
    "                                     'sizes' : h_0.reshape(-1)[peakPointsH]*hSize, \n",
    "                                     'colors' : [0xAAAAAA]*np.sum(peakPointsH)})\n",
    "\n",
    "display.display(tv)"
   ]
  },
  {
   "cell_type": "markdown",
   "metadata": {},
   "source": [
    "Let me add the electron density as well. But I will remove the explicit ions so that we can see the electron cloud."
   ]
  },
  {
   "cell_type": "code",
   "execution_count": 13,
   "metadata": {
    "collapsed": false
   },
   "outputs": [
    {
     "name": "stdout",
     "output_type": "stream",
     "text": [
      "Number of points for n: 9333\n"
     ]
    }
   ],
   "source": [
    "oSize, hSize, nSize = 10, 10, 1\n",
    "oxygen, hydrogen, n = None, None, None\n",
    "tv = RepresentationViewer()\n",
    "@interact(O_threshold=(o_0.mean(), o_0.mean()+o_0.std()*10, o_0.std()))\n",
    "def changeOxygenThreshold(O_threshold=0.01251):\n",
    "    global oxygen, oSize\n",
    "    peakPointsO = (o_0>O_threshold).reshape(-1)\n",
    "    if oxygen: tv.remove_representation(oxygen)\n",
    "    oxygen = tv.add_representation('points', {'coordinates' : xyz[peakPointsO], \n",
    "                                   'sizes' : o_0.reshape(-1)[peakPointsO]*oSize, \n",
    "                                   'colors' : [0xAA0000]*np.sum(peakPointsO)})\n",
    "    \n",
    "@interact(H_threshold=(h_0.mean(), h_0.mean()+h_0.std()*10, h_0.std()))\n",
    "def changeHydrogenThreshold(H_threshold=0.0194):\n",
    "    global hydrogen, hSize\n",
    "    peakPointsH = (h_0>H_threshold).reshape(-1)\n",
    "    if hydrogen: tv.remove_representation(hydrogen)\n",
    "    hydrogen = tv.add_representation('points', {'coordinates' : xyz[peakPointsH], \n",
    "                                     'sizes' : h_0.reshape(-1)[peakPointsH]*hSize, \n",
    "                                     'colors' : [0xAAAAAA]*np.sum(peakPointsH)})\n",
    "\n",
    "def update_n(tv, n, size, lowerLim, upperLim):\n",
    "    ind_n = np.logical_and(n_0>lowerLim, n_0<upperLim).reshape(-1)\n",
    "    if not ind_n.any():\n",
    "        return n\n",
    "    if np.sum(ind_n)>10000:\n",
    "        print(\"Too many n points:\", np.sum(ind_n), '\\nChange the limits!')\n",
    "        return n\n",
    "    else:\n",
    "        print(\"Number of points for n:\", np.sum(ind_n))\n",
    "    if n: tv.remove_representation(n)\n",
    "    return tv.add_representation('points', {'coordinates' : xyz[ind_n], \n",
    "                                            'sizes' : n_0.reshape(-1)[ind_n]*size, \n",
    "                                            'colors' : [0x00AA00]*len(xyz[ind_n]) })\n",
    "\n",
    "@interact(nSize=(0.1,13,.1), \n",
    "          n_lowerLim=(0, 1, 0.001),\n",
    "          n_upperLim=(0.001, 1, 0.001)\n",
    "          )\n",
    "def change_n_Size(nSize=1.4, n_lowerLim=0.042, n_upperLim=0.065):#, ln_oxy_size, ln_h_size, H_threshold):\n",
    "    global n\n",
    "    nSize = np.exp(nSize)\n",
    "    n = update_n(tv, n, nSize, n_lowerLim, n_upperLim)\n",
    "\n",
    "display.display(tv)"
   ]
  },
  {
   "cell_type": "code",
   "execution_count": null,
   "metadata": {
    "collapsed": true
   },
   "outputs": [],
   "source": []
  }
 ],
 "metadata": {
  "kernelspec": {
   "display_name": "Python 3",
   "language": "python",
   "name": "python3"
  },
  "language_info": {
   "codemirror_mode": {
    "name": "ipython",
    "version": 3
   },
   "file_extension": ".py",
   "mimetype": "text/x-python",
   "name": "python",
   "nbconvert_exporter": "python",
   "pygments_lexer": "ipython3",
   "version": "3.5.1"
  }
 },
 "nbformat": 4,
 "nbformat_minor": 0
}
