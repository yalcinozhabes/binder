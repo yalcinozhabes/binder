{
 "cells": [
  {
   "cell_type": "code",
   "execution_count": 1,
   "metadata": {
    "collapsed": false
   },
   "outputs": [
    {
     "name": "stderr",
     "output_type": "stream",
     "text": [
      "/home/main/anaconda2/envs/python3/lib/python3.5/site-packages/matplotlib/font_manager.py:273: UserWarning: Matplotlib is building the font cache using fc-list. This may take a moment.\n",
      "  warnings.warn('Matplotlib is building the font cache using fc-list. This may take a moment.')\n",
      "/home/main/anaconda2/envs/python3/lib/python3.5/site-packages/matplotlib/font_manager.py:273: UserWarning: Matplotlib is building the font cache using fc-list. This may take a moment.\n",
      "  warnings.warn('Matplotlib is building the font cache using fc-list. This may take a moment.')\n",
      "/home/main/anaconda2/envs/python3/lib/python3.5/site-packages/IPython/utils/traitlets.py:5: UserWarning: IPython.utils.traitlets has moved to a top-level traitlets package.\n",
      "  warn(\"IPython.utils.traitlets has moved to a top-level traitlets package.\")\n"
     ]
    }
   ],
   "source": [
    "from jdftx import *"
   ]
  },
  {
   "cell_type": "code",
   "execution_count": 36,
   "metadata": {
    "collapsed": false
   },
   "outputs": [],
   "source": [
    "o_0 = np.fromfile('data/W15OH1-confining.fluidN_H2O_O')\n",
    "h_0 = np.fromfile('data/W15OH1-confining.fluidN_H2O_H')\n",
    "n_0 = np.fromfile('data/W15OH1-confining.n')\n",
    "o_0 = o_0.reshape(140,140,140)\n",
    "h_0 = h_0.reshape(140,140,140)\n",
    "n_0 = n_0.reshape(140,140,140)\n"
   ]
  },
  {
   "cell_type": "code",
   "execution_count": 37,
   "metadata": {
    "collapsed": true
   },
   "outputs": [],
   "source": [
    "a = 35*bohr_as_angstrom\n",
    "dx = a/140\n",
    "x = np.arange(0, a, dx); x+=a/2; x %= a; x-= a/2\n",
    "y = x[:]; z = x[:]\n",
    "from itertools import product\n",
    "xyz = np.asarray(list(product(x,y,z)))"
   ]
  },
  {
   "cell_type": "code",
   "execution_count": 38,
   "metadata": {
    "collapsed": false
   },
   "outputs": [],
   "source": [
    "from IPython.html.widgets import *\n",
    "from IPython import display\n",
    "from chemview import enable_notebook, RepresentationViewer, MolecularViewer\n",
    "enable_notebook()\n",
    "%cd -q data\n",
    "tv = jdlat().vis()\n",
    "# !grep include W15OH1-confining.in\n",
    "%cd -q ../\n",
    "\n",
    "N = 10000\n",
    "randNPoints = np.random.choice(xyz.shape[0], N, replace=False)\n",
    "peakPointsO = (o_0>6*o_0.std()+o_0.mean()).reshape(-1)\n",
    "peakPointsH = (h_0>6*h_0.std()+h_0.mean()).reshape(-1)\n",
    "peakPointsn = (n_0>2*n_0.std()+n_0.mean()).reshape(-1)\n",
    "\n",
    "indChoiceO = peakPointsO\n",
    "N_O = np.size(xyz[indChoiceO])\n",
    "\n",
    "oxygen = tv.add_representation('points', {'coordinates' : xyz[indChoiceO], \n",
    "                                 'sizes' : o_0.reshape(-1)[indChoiceO]*10, \n",
    "                                 'colors' : [0xAA0000]*N_O })\n",
    "oSize = 10\n",
    "\n",
    "indChoiceH = peakPointsH\n",
    "N_H = np.size(xyz[indChoiceH])\n",
    "\n",
    "hSize = 10\n",
    "hydrogen = tv.add_representation('points', {'coordinates' : xyz[indChoiceH], \n",
    "                                 'sizes' : h_0.reshape(-1)[indChoiceH]*hSize, \n",
    "                                 'colors' : [0xAAAAAA]*N_H })\n",
    "\n",
    "nSize = 1\n",
    "indChoice_n = peakPointsn\n",
    "N_n = np.size(xyz[indChoice_n])\n",
    "\n",
    "n = tv.add_representation('points', {'coordinates' : xyz[indChoice_n], \n",
    "                                 'sizes' : n_0.reshape(-1)[indChoice_n], \n",
    "                                 'colors' : [0x00AA00]*N_n })\n",
    "print(n)\n",
    "print(len(tv.representations))\n",
    "def update_n(tv, n, size, lowerLim, upperLim):\n",
    "    ind_n = np.logical_and(n_0>lowerLim, n_0<upperLim).reshape(-1)\n",
    "    if not ind_n.any():\n",
    "        return n\n",
    "    if np.sum(ind_n)>10000:\n",
    "        print(\"Too many points\")\n",
    "        return n\n",
    "    else:\n",
    "        print(np.sum(ind_n))\n",
    "    tv.remove_representation(n)\n",
    "    n = tv.add_representation('points', {'coordinates' : xyz[ind_n], \n",
    "                                         'sizes' : n_0.reshape(-1)[ind_n]*size, \n",
    "                                         'colors' : [0x00AA00]*len(xyz[ind_n]) })\n",
    "    return n\n",
    "\n",
    "@interact(nSize=(0.1,13,.1), \n",
    "          n_lowerLim=(0, 1, 0.001),\n",
    "          n_upperLim=(0.001, 1, 0.001)\n",
    "          )\n",
    "def change_n_Size(nSize=0.1, n_lowerLim=0.1, n_upperLim=1):#, ln_oxy_size, ln_h_size, H_threshold):\n",
    "    global n\n",
    "    nSize = np.exp(nSize)\n",
    "    n = update_n(tv, n, nSize, n_lowerLim, n_upperLim)\n",
    "    \n",
    "@interact(O_threshold=(o_0.mean(), o_0.mean()+o_0.std()*10, o_0.std()))\n",
    "def changeOxygenThreshold(O_threshold):\n",
    "    global oxygen, oSize\n",
    "    peakPointsO = (o_0>O_threshold).reshape(-1)\n",
    "    N_O = np.size(xyz[peakPointsO])\n",
    "    tv.remove_representation(oxygen)\n",
    "    oxygen = tv.add_representation('points', {'coordinates' : xyz[peakPointsO], \n",
    "                                 'sizes' : o_0.reshape(-1)[peakPointsO]*oSize, \n",
    "                                 'colors' : [0xAA0000]*N_O })\n",
    "    \n",
    "@interact(H_threshold=(h_0.mean(), h_0.mean()+h_0.std()*10, h_0.std()))\n",
    "def changeHydrogenThreshold(H_threshold):\n",
    "    global hydrogen, hSize\n",
    "    peakPointsH = (h_0>H_threshold).reshape(-1)\n",
    "    N_H = np.size(xyz[peakPointsH])\n",
    "    tv.remove_representation(hydrogen)\n",
    "    hydrogen = tv.add_representation('points', {'coordinates' : xyz[peakPointsH], \n",
    "                                     'sizes' : h_0.reshape(-1)[peakPointsH]*hSize, \n",
    "                                     'colors' : [0xAAAAAA]*N_H })\n",
    "\n",
    "display.display(tv)"
   ]
  },
  {
   "cell_type": "code",
   "execution_count": 33,
   "metadata": {
    "collapsed": false
   },
   "outputs": [],
   "source": [
    "display.display(tv)"
   ]
  },
  {
   "cell_type": "code",
   "execution_count": 39,
   "metadata": {
    "collapsed": false
   },
   "outputs": [
    {
     "data": {
      "text/html": [
       "\n",
       "<table border=\"1\">\n",
       "  <tr>\n",
       "    <th>Extension name</th>\n",
       "  </tr>\n",
       "<tr><td>chemview</td>\n",
       "\n",
       "</table>\n"
      ],
      "text/plain": [
       "<IPython.core.display.HTML object>"
      ]
     },
     "execution_count": 39,
     "metadata": {},
     "output_type": "execute_result"
    }
   ],
   "source": [
    "from IPython.html.services.config import ConfigManager\n",
    "from IPython.display import HTML\n",
    "ip = get_ipython()\n",
    "cm = ConfigManager(parent=ip, profile_dir=ip.profile_dir.location)\n",
    "extensions =cm.get('notebook')\n",
    "table = \"\"\n",
    "for ext in extensions['load_extensions']:\n",
    "    table += \"<tr><td>%s</td>\\n\" % (ext)\n",
    "\n",
    "top = \"\"\"\n",
    "<table border=\"1\">\n",
    "  <tr>\n",
    "    <th>Extension name</th>\n",
    "  </tr>\n",
    "\"\"\"\n",
    "bottom = \"\"\"\n",
    "</table>\n",
    "\"\"\"\n",
    "HTML(top + table + bottom)"
   ]
  },
  {
   "cell_type": "code",
   "execution_count": null,
   "metadata": {
    "collapsed": true
   },
   "outputs": [],
   "source": []
  }
 ],
 "metadata": {
  "kernelspec": {
   "display_name": "Python 3",
   "language": "python",
   "name": "python3"
  },
  "language_info": {
   "codemirror_mode": {
    "name": "ipython",
    "version": 3
   },
   "file_extension": ".py",
   "mimetype": "text/x-python",
   "name": "python",
   "nbconvert_exporter": "python",
   "pygments_lexer": "ipython3",
   "version": "3.5.1"
  }
 },
 "nbformat": 4,
 "nbformat_minor": 0
}
